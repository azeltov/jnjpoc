{
  "cells": [
    {
      "cell_type": "markdown",
      "source": [
        "Copyright (c) Microsoft Corporation. All rights reserved.\n",
        "\n",
        "Licensed under the MIT License."
      ],
      "metadata": {}
    },
    {
      "cell_type": "markdown",
      "source": [
        "![Impressions](https://PixelServer20190423114238.azurewebsites.net/api/impressions/NotebookVM/how-to-use-azureml/training/train-on-amlcompute/train-on-amlcompute.png)"
      ],
      "metadata": {}
    },
    {
      "cell_type": "markdown",
      "source": [
        "#  Train using Azure Machine Learning Compute\n",
        "\n",
        "* Initialize a Workspace\n",
        "* Create an Experiment\n",
        "* Introduction to AmlCompute\n",
        "* Submit an AmlCompute run in a few different ways\n",
        "    - Provision as a persistent compute target (Basic)\n",
        "    - Provision as a persistent compute target (Advanced)\n",
        "* Additional operations to perform on AmlCompute\n",
        "* Find the best model in the run"
      ],
      "metadata": {}
    },
    {
      "cell_type": "markdown",
      "source": [
        "## Prerequisites\n",
        "If you are using an Azure Machine Learning Notebook VM, you are all set.  Otherwise, go through the [configuration](../../../configuration.ipynb) Notebook first if you haven't already to establish your connection to the AzureML Workspace."
      ],
      "metadata": {}
    },
    {
      "cell_type": "code",
      "source": [
        "# Check core SDK version number\n",
        "import azureml.core\n",
        "\n",
        "print(\"SDK version:\", azureml.core.VERSION)"
      ],
      "outputs": [
        {
          "output_type": "stream",
          "name": "stdout",
          "text": "SDK version: 1.44.0\n"
        }
      ],
      "execution_count": 1,
      "metadata": {
        "gather": {
          "logged": 1667237244445
        }
      }
    },
    {
      "cell_type": "markdown",
      "source": [
        "## Initialize a Workspace\n",
        "\n",
        "Initialize a workspace object from persisted configuration"
      ],
      "metadata": {}
    },
    {
      "cell_type": "code",
      "source": [
        "from azureml.core import Workspace\n",
        "\n",
        "ws = Workspace.from_config()\n",
        "print(ws.name, ws.resource_group, ws.location, ws.subscription_id, sep = '\\n')"
      ],
      "outputs": [
        {
          "output_type": "stream",
          "name": "stdout",
          "text": "aml-no-acr\nrg-aml-no-acr\neastus\nf1ea6ed8-82f3-416d-881b-8b376218bc85\n"
        }
      ],
      "execution_count": 2,
      "metadata": {
        "tags": [
          "create workspace"
        ],
        "gather": {
          "logged": 1667237247553
        }
      }
    },
    {
      "cell_type": "markdown",
      "source": [
        "## Create An Experiment\n",
        "\n",
        "**Experiment** is a logical container in an Azure ML Workspace. It hosts run records which can include run metrics and output artifacts from your experiments."
      ],
      "metadata": {}
    },
    {
      "cell_type": "code",
      "source": [
        "from azureml.core import Experiment\n",
        "experiment_name = 'train-on-amlcompute'\n",
        "experiment = Experiment(workspace = ws, name = experiment_name)"
      ],
      "outputs": [],
      "execution_count": 3,
      "metadata": {
        "gather": {
          "logged": 1667237248241
        }
      }
    },
    {
      "cell_type": "markdown",
      "source": [
        "## Introduction to AmlCompute\n",
        "\n",
        "Azure Machine Learning Compute is managed compute infrastructure that allows the user to easily create single to multi-node compute of the appropriate VM Family. It is created **within your workspace region** and is a resource that can be used by other users in your workspace. It autoscales by default to the max_nodes, when a job is submitted, and executes in a containerized environment packaging the dependencies as specified by the user. \n",
        "\n",
        "Since it is managed compute, job scheduling and cluster management are handled internally by Azure Machine Learning service. \n",
        "\n",
        "For more information on Azure Machine Learning Compute, please read [this article](https://docs.microsoft.com/azure/machine-learning/service/how-to-set-up-training-targets#amlcompute)\n",
        "\n",
        "If you are an existing BatchAI customer who is migrating to Azure Machine Learning, please read [this article](https://aka.ms/batchai-retirement)\n",
        "\n",
        "**Note**: As with other Azure services, there are limits on certain resources (for eg. AmlCompute quota) associated with the Azure Machine Learning service. Please read [this article](https://docs.microsoft.com/azure/machine-learning/service/how-to-manage-quotas) on the default limits and how to request more quota.\n",
        "\n",
        "\n",
        "The training script `train.py` is already created for you. Let's have a look."
      ],
      "metadata": {}
    },
    {
      "cell_type": "markdown",
      "source": [
        "## Submit an AmlCompute run in a few different ways\n",
        "\n",
        "First lets check which VM families are available in your region. Azure is a regional service and some specialized SKUs (especially GPUs) are only available in certain regions. Since AmlCompute is created in the region of your workspace, we will use the supported_vms () function to see if the VM family we want to use ('STANDARD_D2_V2') is supported.\n",
        "\n",
        "You can also pass a different region to check availability and then re-create your workspace in that region through the [configuration notebook](../../../configuration.ipynb)."
      ],
      "metadata": {}
    },
    {
      "cell_type": "markdown",
      "source": [
        "### Create project directory\n",
        "\n",
        "Create a directory that will contain all the necessary code from your local machine that you will need access to on the remote resource. This includes the training script, and any additional files your training script depends on"
      ],
      "metadata": {}
    },
    {
      "cell_type": "code",
      "source": [
        "import os\n",
        "import shutil\n",
        "\n",
        "project_folder = './train-on-amlcompute'\n",
        "os.makedirs(project_folder, exist_ok=True)\n",
        "shutil.copy('train.py', project_folder)"
      ],
      "outputs": [
        {
          "output_type": "execute_result",
          "execution_count": 4,
          "data": {
            "text/plain": "'./train-on-amlcompute/train.py'"
          },
          "metadata": {}
        }
      ],
      "execution_count": 4,
      "metadata": {
        "gather": {
          "logged": 1667237251983
        }
      }
    },
    {
      "cell_type": "markdown",
      "source": [
        "### Create environment\n",
        "\n",
        "Create Docker based environment with scikit-learn installed."
      ],
      "metadata": {}
    },
    {
      "cell_type": "code",
      "source": [
        "from azureml.core import Environment\n",
        "from azureml.core.runconfig import DockerConfiguration\n",
        "from azureml.core.conda_dependencies import CondaDependencies\n",
        "\n",
        "myenv = Environment.get(workspace=ws, name=\"jnjbyname\")\n",
        "myenv"
      ],
      "outputs": [
        {
          "output_type": "execute_result",
          "execution_count": 5,
          "data": {
            "text/plain": "{\n    \"assetId\": \"azureml://locations/eastus/workspaces/f2daf0ef-663d-42a5-96d4-3ad3d3d90b2f/environments/jnjbyname/versions/2\",\n    \"databricks\": {\n        \"eggLibraries\": [],\n        \"jarLibraries\": [],\n        \"mavenLibraries\": [],\n        \"pypiLibraries\": [],\n        \"rcranLibraries\": []\n    },\n    \"docker\": {\n        \"arguments\": [],\n        \"baseDockerfile\": null,\n        \"baseImage\": \"nexus.private:5000/repository/docker/jnjenv:latest\",\n        \"baseImageRegistry\": {\n            \"address\": null,\n            \"password\": \"AzureMlSecret=Env_b1c0ab458cb5044fe9c4adbbe27ebbbdf4e0799bb4b51adf5a8d58887a0b075a_2#EnvironmentDefinition#ContainerRegistry#Password\",\n            \"registryIdentity\": null,\n            \"username\": \"admin\"\n        },\n        \"buildContext\": null,\n        \"enabled\": false,\n        \"platform\": {\n            \"architecture\": \"amd64\",\n            \"os\": \"Linux\"\n        },\n        \"sharedVolumes\": true,\n        \"shmSize\": null\n    },\n    \"environmentVariables\": {\n        \"EXAMPLE_ENV_VAR\": \"EXAMPLE_VALUE\"\n    },\n    \"inferencingStackVersion\": null,\n    \"name\": \"jnjbyname\",\n    \"python\": {\n        \"baseCondaEnvironment\": null,\n        \"condaDependencies\": {\n            \"channels\": [\n                \"anaconda\",\n                \"conda-forge\"\n            ],\n            \"dependencies\": [\n                \"python=3.8.13\",\n                {\n                    \"pip\": [\n                        \"azureml-defaults\"\n                    ]\n                }\n            ],\n            \"name\": \"project_environment\"\n        },\n        \"condaDependenciesFile\": null,\n        \"interpreterPath\": \"/azureml-envs/azureml_7b670ddb0b1b12445c1500836daaad97/bin/python\",\n        \"userManagedDependencies\": true\n    },\n    \"r\": null,\n    \"spark\": {\n        \"packages\": [],\n        \"precachePackages\": true,\n        \"repositories\": []\n    },\n    \"version\": \"2\"\n}"
          },
          "metadata": {}
        }
      ],
      "execution_count": 5,
      "metadata": {
        "gather": {
          "logged": 1667237253717
        }
      }
    },
    {
      "cell_type": "markdown",
      "source": [
        "### Provision as a persistent compute target (Basic)\n",
        "\n",
        "> Note that if you have an AzureML Data Scientist role, you will not have permission to create compute resources. Talk to your workspace or IT admin to create the compute targets described in this section, if they do not already exist.\n",
        "\n",
        "You can provision a persistent AmlCompute resource by simply defining two parameters thanks to smart defaults. By default it autoscales from 0 nodes and provisions dedicated VMs to run your job in a container. This is useful when you want to continously re-use the same target, debug it between jobs or simply share the resource with other users of your workspace.\n",
        "\n",
        "* `vm_size`: VM family of the nodes provisioned by AmlCompute. Simply choose from the supported_vmsizes() above\n",
        "* `max_nodes`: Maximum nodes to autoscale to while running a job on AmlCompute"
      ],
      "metadata": {}
    },
    {
      "cell_type": "code",
      "source": [
        "from azureml.core.compute import ComputeTarget, AmlCompute\n",
        "from azureml.core.compute_target import ComputeTargetException\n",
        "\n",
        "# Choose a name for your CPU cluster\n",
        "#cpu_cluster_name = \"cpu-cluster-trainsubnetssh\"\n",
        "cpu_cluster_name = \"cpu-cluster\"\n",
        "# Verify that cluster does not exist already\n",
        "try:\n",
        "    cpu_cluster = ComputeTarget(workspace=ws, name=cpu_cluster_name)\n",
        "    print('Found existing cluster, use it.')\n",
        "except ComputeTargetException:\n",
        "    compute_config = AmlCompute.provisioning_configuration(vm_size='STANDARD_D2_V2',\n",
        "                                                           max_nodes=4)\n",
        "    cpu_cluster = ComputeTarget.create(ws, cpu_cluster_name, compute_config)\n",
        "\n",
        "cpu_cluster.wait_for_completion(show_output=True)"
      ],
      "outputs": [
        {
          "output_type": "stream",
          "name": "stdout",
          "text": "Found existing cluster, use it.\nSucceeded\nAmlCompute wait for completion finished\n\nMinimum number of nodes requested have been provisioned\n"
        }
      ],
      "execution_count": 6,
      "metadata": {
        "tags": [
          "sample-amlcompute-provision"
        ],
        "gather": {
          "logged": 1667237255975
        }
      }
    },
    {
      "cell_type": "markdown",
      "source": [
        "### Configure & Run"
      ],
      "metadata": {}
    },
    {
      "cell_type": "code",
      "source": [
        "from azureml.core import ScriptRunConfig\n",
        "\n",
        "src = ScriptRunConfig(source_directory=project_folder, \n",
        "                      script='train.py', \n",
        "                      compute_target=cpu_cluster, \n",
        "                      environment=myenv)\n",
        " \n",
        "run = experiment.submit(config=src)\n",
        "run"
      ],
      "outputs": [
        {
          "output_type": "execute_result",
          "execution_count": 7,
          "data": {
            "text/plain": "Run(Experiment: train-on-amlcompute,\nId: train-on-amlcompute_1667237258_82d3028a,\nType: azureml.scriptrun,\nStatus: Starting)",
            "text/html": "<table style=\"width:100%\"><tr><th>Experiment</th><th>Id</th><th>Type</th><th>Status</th><th>Details Page</th><th>Docs Page</th></tr><tr><td>train-on-amlcompute</td><td>train-on-amlcompute_1667237258_82d3028a</td><td>azureml.scriptrun</td><td>Starting</td><td><a href=\"https://ml.azure.com/runs/train-on-amlcompute_1667237258_82d3028a?wsid=/subscriptions/f1ea6ed8-82f3-416d-881b-8b376218bc85/resourcegroups/rg-aml-no-acr/workspaces/aml-no-acr&amp;tid=074101a8-2a55-4e54-9b9f-56c83e17cb22\" target=\"_blank\" rel=\"noopener\">Link to Azure Machine Learning studio</a></td><td><a href=\"https://docs.microsoft.com/en-us/python/api/azureml-core/azureml.core.script_run.ScriptRun?view=azure-ml-py\" target=\"_blank\" rel=\"noopener\">Link to Documentation</a></td></tr></table>"
          },
          "metadata": {}
        }
      ],
      "execution_count": 7,
      "metadata": {
        "gather": {
          "logged": 1667237262118
        }
      }
    },
    {
      "cell_type": "markdown",
      "source": [
        "Note: if you need to cancel a run, you can follow [these instructions](https://aka.ms/aml-docs-cancel-run)."
      ],
      "metadata": {}
    },
    {
      "cell_type": "code",
      "source": [
        "%%time\n",
        "# Shows output of the run on stdout.\n",
        "run.wait_for_completion(show_output=True)"
      ],
      "outputs": [
        {
          "output_type": "stream",
          "name": "stdout",
          "text": "RunId: train-on-amlcompute_1667237258_82d3028a\nWeb View: https://ml.azure.com/runs/train-on-amlcompute_1667237258_82d3028a?wsid=/subscriptions/f1ea6ed8-82f3-416d-881b-8b376218bc85/resourcegroups/rg-aml-no-acr/workspaces/aml-no-acr&tid=074101a8-2a55-4e54-9b9f-56c83e17cb22\n\nExecution Summary\n=================\nRunId: train-on-amlcompute_1667237258_82d3028a\nWeb View: https://ml.azure.com/runs/train-on-amlcompute_1667237258_82d3028a?wsid=/subscriptions/f1ea6ed8-82f3-416d-881b-8b376218bc85/resourcegroups/rg-aml-no-acr/workspaces/aml-no-acr&tid=074101a8-2a55-4e54-9b9f-56c83e17cb22\n\nWarnings:\nAzureMLCompute job failed.\nExternalRegistryError: Failed to pull Docker image nexus.private:5000/repository/docker/jnjenv:latest with authentication mode UsernamePassword due to: Docker responded with status code 500: {\"message\":\"Get \\\"https://nexus.priva\n\n"
        },
        {
          "output_type": "error",
          "ename": "ActivityFailedException",
          "evalue": "ActivityFailedException:\n\tMessage: Activity Failed:\n{\n    \"error\": {\n        \"code\": \"UserError\",\n        \"message\": \"AzureMLCompute job failed.\\nExternalRegistryError: Failed to pull Docker image nexus.private:5000/repository/docker/jnjenv:latest with authentication mode UsernamePassword due to: Docker responded with status code 500: {\\\"message\\\":\\\"Get \\\\\\\"https://nexus.private:5000/v2/\\\\\\\": http: server gave HTTP response to HTTPS client\\\"}\\n. There was an issue connecting with the registry. Please verify that the registry is accessible and that the credentials used are correct.\",\n        \"messageFormat\": \"{Message}\",\n        \"messageParameters\": {\n            \"Message\": \"AzureMLCompute job failed.\\nExternalRegistryError: Failed to pull Docker image nexus.private:5000/repository/docker/jnjenv:latest with authentication mode UsernamePassword due to: Docker responded with status code 500: {\\\"message\\\":\\\"Get \\\\\\\"https://nexus.private:5000/v2/\\\\\\\": http: server gave HTTP response to HTTPS client\\\"}\\n. There was an issue connecting with the registry. Please verify that the registry is accessible and that the credentials used are correct.\"\n        },\n        \"details\": [],\n        \"innerError\": {\n            \"code\": \"UserTrainingScriptFailed\"\n        }\n    },\n    \"correlation\": {\n        \"operation\": \"0147754d6e6f9ad5d4107c6d41a019d3\",\n        \"request\": \"9c043e2738eaa036\"\n    },\n    \"environment\": \"eastus\",\n    \"location\": \"eastus\",\n    \"time\": \"2022-10-31T17:33:03.40698Z\",\n    \"componentName\": \"globaljobdispatcher\"\n}\n\tInnerException None\n\tErrorResponse \n{\n    \"error\": {\n        \"message\": \"Activity Failed:\\n{\\n    \\\"error\\\": {\\n        \\\"code\\\": \\\"UserError\\\",\\n        \\\"message\\\": \\\"AzureMLCompute job failed.\\\\nExternalRegistryError: Failed to pull Docker image nexus.private:5000/repository/docker/jnjenv:latest with authentication mode UsernamePassword due to: Docker responded with status code 500: {\\\\\\\"message\\\\\\\":\\\\\\\"Get \\\\\\\\\\\\\\\"https://nexus.private:5000/v2/\\\\\\\\\\\\\\\": http: server gave HTTP response to HTTPS client\\\\\\\"}\\\\n. There was an issue connecting with the registry. Please verify that the registry is accessible and that the credentials used are correct.\\\",\\n        \\\"messageFormat\\\": \\\"{Message}\\\",\\n        \\\"messageParameters\\\": {\\n            \\\"Message\\\": \\\"AzureMLCompute job failed.\\\\nExternalRegistryError: Failed to pull Docker image nexus.private:5000/repository/docker/jnjenv:latest with authentication mode UsernamePassword due to: Docker responded with status code 500: {\\\\\\\"message\\\\\\\":\\\\\\\"Get \\\\\\\\\\\\\\\"https://nexus.private:5000/v2/\\\\\\\\\\\\\\\": http: server gave HTTP response to HTTPS client\\\\\\\"}\\\\n. There was an issue connecting with the registry. Please verify that the registry is accessible and that the credentials used are correct.\\\"\\n        },\\n        \\\"details\\\": [],\\n        \\\"innerError\\\": {\\n            \\\"code\\\": \\\"UserTrainingScriptFailed\\\"\\n        }\\n    },\\n    \\\"correlation\\\": {\\n        \\\"operation\\\": \\\"0147754d6e6f9ad5d4107c6d41a019d3\\\",\\n        \\\"request\\\": \\\"9c043e2738eaa036\\\"\\n    },\\n    \\\"environment\\\": \\\"eastus\\\",\\n    \\\"location\\\": \\\"eastus\\\",\\n    \\\"time\\\": \\\"2022-10-31T17:33:03.40698Z\\\",\\n    \\\"componentName\\\": \\\"globaljobdispatcher\\\"\\n}\"\n    }\n}",
          "traceback": [
            "\u001b[0;31m---------------------------------------------------------------------------\u001b[0m",
            "\u001b[0;31mActivityFailedException\u001b[0m                   Traceback (most recent call last)",
            "File \u001b[0;32m<timed eval>:2\u001b[0m, in \u001b[0;36m<module>\u001b[0;34m\u001b[0m\n",
            "File \u001b[0;32m/anaconda/envs/azureml_py38/lib/python3.8/site-packages/azureml/core/run.py:843\u001b[0m, in \u001b[0;36mRun.wait_for_completion\u001b[0;34m(self, show_output, wait_post_processing, raise_on_error)\u001b[0m\n\u001b[1;32m    841\u001b[0m \u001b[38;5;28;01mif\u001b[39;00m show_output:\n\u001b[1;32m    842\u001b[0m     \u001b[38;5;28;01mtry\u001b[39;00m:\n\u001b[0;32m--> 843\u001b[0m         \u001b[38;5;28;43mself\u001b[39;49m\u001b[38;5;241;43m.\u001b[39;49m\u001b[43m_stream_run_output\u001b[49m\u001b[43m(\u001b[49m\n\u001b[1;32m    844\u001b[0m \u001b[43m            \u001b[49m\u001b[43mfile_handle\u001b[49m\u001b[38;5;241;43m=\u001b[39;49m\u001b[43msys\u001b[49m\u001b[38;5;241;43m.\u001b[39;49m\u001b[43mstdout\u001b[49m\u001b[43m,\u001b[49m\n\u001b[1;32m    845\u001b[0m \u001b[43m            \u001b[49m\u001b[43mwait_post_processing\u001b[49m\u001b[38;5;241;43m=\u001b[39;49m\u001b[43mwait_post_processing\u001b[49m\u001b[43m,\u001b[49m\n\u001b[1;32m    846\u001b[0m \u001b[43m            \u001b[49m\u001b[43mraise_on_error\u001b[49m\u001b[38;5;241;43m=\u001b[39;49m\u001b[43mraise_on_error\u001b[49m\u001b[43m)\u001b[49m\n\u001b[1;32m    847\u001b[0m         \u001b[38;5;28;01mreturn\u001b[39;00m \u001b[38;5;28mself\u001b[39m\u001b[38;5;241m.\u001b[39mget_details()\n\u001b[1;32m    848\u001b[0m     \u001b[38;5;28;01mexcept\u001b[39;00m \u001b[38;5;167;01mKeyboardInterrupt\u001b[39;00m:\n",
            "File \u001b[0;32m/anaconda/envs/azureml_py38/lib/python3.8/site-packages/azureml/core/run.py:1096\u001b[0m, in \u001b[0;36mRun._stream_run_output\u001b[0;34m(self, file_handle, wait_post_processing, raise_on_error)\u001b[0m\n\u001b[1;32m   1094\u001b[0m         file_handle\u001b[38;5;241m.\u001b[39mwrite(\u001b[38;5;124m\"\u001b[39m\u001b[38;5;130;01m\\n\u001b[39;00m\u001b[38;5;124m\"\u001b[39m)\n\u001b[1;32m   1095\u001b[0m     \u001b[38;5;28;01melse\u001b[39;00m:\n\u001b[0;32m-> 1096\u001b[0m         \u001b[38;5;28;01mraise\u001b[39;00m ActivityFailedException(error_details\u001b[38;5;241m=\u001b[39mjson\u001b[38;5;241m.\u001b[39mdumps(error, indent\u001b[38;5;241m=\u001b[39m\u001b[38;5;241m4\u001b[39m))\n\u001b[1;32m   1098\u001b[0m file_handle\u001b[38;5;241m.\u001b[39mwrite(\u001b[38;5;124m\"\u001b[39m\u001b[38;5;130;01m\\n\u001b[39;00m\u001b[38;5;124m\"\u001b[39m)\n\u001b[1;32m   1099\u001b[0m file_handle\u001b[38;5;241m.\u001b[39mflush()\n",
            "\u001b[0;31mActivityFailedException\u001b[0m: ActivityFailedException:\n\tMessage: Activity Failed:\n{\n    \"error\": {\n        \"code\": \"UserError\",\n        \"message\": \"AzureMLCompute job failed.\\nExternalRegistryError: Failed to pull Docker image nexus.private:5000/repository/docker/jnjenv:latest with authentication mode UsernamePassword due to: Docker responded with status code 500: {\\\"message\\\":\\\"Get \\\\\\\"https://nexus.private:5000/v2/\\\\\\\": http: server gave HTTP response to HTTPS client\\\"}\\n. There was an issue connecting with the registry. Please verify that the registry is accessible and that the credentials used are correct.\",\n        \"messageFormat\": \"{Message}\",\n        \"messageParameters\": {\n            \"Message\": \"AzureMLCompute job failed.\\nExternalRegistryError: Failed to pull Docker image nexus.private:5000/repository/docker/jnjenv:latest with authentication mode UsernamePassword due to: Docker responded with status code 500: {\\\"message\\\":\\\"Get \\\\\\\"https://nexus.private:5000/v2/\\\\\\\": http: server gave HTTP response to HTTPS client\\\"}\\n. There was an issue connecting with the registry. Please verify that the registry is accessible and that the credentials used are correct.\"\n        },\n        \"details\": [],\n        \"innerError\": {\n            \"code\": \"UserTrainingScriptFailed\"\n        }\n    },\n    \"correlation\": {\n        \"operation\": \"0147754d6e6f9ad5d4107c6d41a019d3\",\n        \"request\": \"9c043e2738eaa036\"\n    },\n    \"environment\": \"eastus\",\n    \"location\": \"eastus\",\n    \"time\": \"2022-10-31T17:33:03.40698Z\",\n    \"componentName\": \"globaljobdispatcher\"\n}\n\tInnerException None\n\tErrorResponse \n{\n    \"error\": {\n        \"message\": \"Activity Failed:\\n{\\n    \\\"error\\\": {\\n        \\\"code\\\": \\\"UserError\\\",\\n        \\\"message\\\": \\\"AzureMLCompute job failed.\\\\nExternalRegistryError: Failed to pull Docker image nexus.private:5000/repository/docker/jnjenv:latest with authentication mode UsernamePassword due to: Docker responded with status code 500: {\\\\\\\"message\\\\\\\":\\\\\\\"Get \\\\\\\\\\\\\\\"https://nexus.private:5000/v2/\\\\\\\\\\\\\\\": http: server gave HTTP response to HTTPS client\\\\\\\"}\\\\n. There was an issue connecting with the registry. Please verify that the registry is accessible and that the credentials used are correct.\\\",\\n        \\\"messageFormat\\\": \\\"{Message}\\\",\\n        \\\"messageParameters\\\": {\\n            \\\"Message\\\": \\\"AzureMLCompute job failed.\\\\nExternalRegistryError: Failed to pull Docker image nexus.private:5000/repository/docker/jnjenv:latest with authentication mode UsernamePassword due to: Docker responded with status code 500: {\\\\\\\"message\\\\\\\":\\\\\\\"Get \\\\\\\\\\\\\\\"https://nexus.private:5000/v2/\\\\\\\\\\\\\\\": http: server gave HTTP response to HTTPS client\\\\\\\"}\\\\n. There was an issue connecting with the registry. Please verify that the registry is accessible and that the credentials used are correct.\\\"\\n        },\\n        \\\"details\\\": [],\\n        \\\"innerError\\\": {\\n            \\\"code\\\": \\\"UserTrainingScriptFailed\\\"\\n        }\\n    },\\n    \\\"correlation\\\": {\\n        \\\"operation\\\": \\\"0147754d6e6f9ad5d4107c6d41a019d3\\\",\\n        \\\"request\\\": \\\"9c043e2738eaa036\\\"\\n    },\\n    \\\"environment\\\": \\\"eastus\\\",\\n    \\\"location\\\": \\\"eastus\\\",\\n    \\\"time\\\": \\\"2022-10-31T17:33:03.40698Z\\\",\\n    \\\"componentName\\\": \\\"globaljobdispatcher\\\"\\n}\"\n    }\n}"
          ]
        }
      ],
      "execution_count": 8,
      "metadata": {}
    },
    {
      "cell_type": "code",
      "source": [
        "run.get_metrics()"
      ],
      "outputs": [],
      "execution_count": null,
      "metadata": {}
    },
    {
      "cell_type": "markdown",
      "source": [
        "### Provision as a persistent compute target (Advanced)\n",
        "\n",
        "> Note that if you have an AzureML Data Scientist role, you will not have permission to create compute resources. Talk to your workspace or IT admin to create the compute targets described in this section, if they do not already exist.\n",
        "\n",
        "You can also specify additional properties or change defaults while provisioning AmlCompute using a more advanced configuration. This is useful when you want a dedicated cluster of 4 nodes (for example you can set the min_nodes and max_nodes to 4), or want the compute to be within an existing VNet in your subscription.\n",
        "\n",
        "In addition to `vm_size` and `max_nodes`, you can specify:\n",
        "* `min_nodes`: Minimum nodes (default 0 nodes) to downscale to while running a job on AmlCompute\n",
        "* `vm_priority`: Choose between 'dedicated' (default) and 'lowpriority' VMs when provisioning AmlCompute. Low Priority VMs use Azure's excess capacity and are thus cheaper but risk your run being pre-empted\n",
        "* `idle_seconds_before_scaledown`: Idle time (default 120 seconds) to wait after run completion before auto-scaling to min_nodes\n",
        "* `vnet_resourcegroup_name`: Resource group of the **existing** VNet within which AmlCompute should be provisioned\n",
        "* `vnet_name`: Name of VNet\n",
        "* `subnet_name`: Name of SubNet within the VNet\n",
        "* `admin_username`: Name of Admin user account which will be created on all the nodes of the cluster\n",
        "* `admin_user_password`: Password that you want to set for the user account above\n",
        "* `admin_user_ssh_key`: SSH Key for the user account above. You can specify either a password or an SSH key or both\n",
        "* `remote_login_port_public_access`: Flag to enable or disable the public SSH port. If you dont specify, AmlCompute will smartly close the port when deploying inside a VNet\n",
        "* `identity_type`: Compute Identity type that you want to set on the cluster, which can either be SystemAssigned or UserAssigned\n",
        "* `identity_id`: Resource ID of identity in case it is a UserAssigned identity, optional otherwise\n"
      ],
      "metadata": {}
    },
    {
      "cell_type": "code",
      "source": [
        "from azureml.core.compute import ComputeTarget, AmlCompute\n",
        "from azureml.core.compute_target import ComputeTargetException\n",
        "\n",
        "# Choose a name for your CPU cluster\n",
        "cpu_cluster_name = \"cpu-cluster\"\n",
        "\n",
        "# Verify that cluster does not exist already\n",
        "try:\n",
        "    cpu_cluster = ComputeTarget(workspace=ws, name=cpu_cluster_name)\n",
        "    print('Found existing cluster, use it.')\n",
        "except ComputeTargetException:\n",
        "    compute_config = AmlCompute.provisioning_configuration(vm_size='STANDARD_D2_V2',\n",
        "                                                           vm_priority='lowpriority',\n",
        "                                                           min_nodes=2,\n",
        "                                                           max_nodes=4,\n",
        "                                                           idle_seconds_before_scaledown='300',\n",
        "                                                           vnet_resourcegroup_name='<my-resource-group>',\n",
        "                                                           vnet_name='<my-vnet-name>',\n",
        "                                                           subnet_name='<my-subnet-name>',\n",
        "                                                           admin_username='<my-username>',\n",
        "                                                           admin_user_password='<my-password>',\n",
        "                                                           admin_user_ssh_key='<my-sshkey>',\n",
        "                                                           remote_login_port_public_access='enabled',\n",
        "                                                           identity_type='UserAssigned',\n",
        "                                                           identity_id=['<resource-id1>'])\n",
        "    cpu_cluster = ComputeTarget.create(ws, cpu_cluster_name, compute_config)\n",
        "\n",
        "cpu_cluster.wait_for_completion(show_output=True)"
      ],
      "outputs": [],
      "execution_count": null,
      "metadata": {}
    },
    {
      "cell_type": "markdown",
      "source": [
        "### Configure & Run"
      ],
      "metadata": {}
    },
    {
      "cell_type": "code",
      "source": [
        "# Set compute target to the one created in previous step\n",
        "src.run_config.target = cpu_cluster\n",
        " \n",
        "run = experiment.submit(config=src)\n",
        "run"
      ],
      "outputs": [],
      "execution_count": null,
      "metadata": {}
    },
    {
      "cell_type": "code",
      "source": [
        "%%time\n",
        "# Shows output of the run on stdout.\n",
        "run.wait_for_completion(show_output=True)"
      ],
      "outputs": [],
      "execution_count": null,
      "metadata": {}
    },
    {
      "cell_type": "code",
      "source": [
        "run.get_metrics()"
      ],
      "outputs": [],
      "execution_count": null,
      "metadata": {}
    },
    {
      "cell_type": "markdown",
      "source": [
        "## Additional operations to perform on AmlCompute\n",
        "\n",
        "You can perform more operations on AmlCompute such as updating the node counts or deleting the compute. "
      ],
      "metadata": {}
    },
    {
      "cell_type": "code",
      "source": [
        "#get_status () gets the latest status of the AmlCompute target\n",
        "cpu_cluster.get_status().serialize()"
      ],
      "outputs": [],
      "execution_count": null,
      "metadata": {}
    },
    {
      "cell_type": "code",
      "source": [
        "#list_nodes () gets the list of nodes on the cluster with status, IP and associated run\n",
        "cpu_cluster.list_nodes()"
      ],
      "outputs": [],
      "execution_count": null,
      "metadata": {}
    },
    {
      "cell_type": "code",
      "source": [
        "#Update () takes in the min_nodes, max_nodes and idle_seconds_before_scaledown and updates the AmlCompute target\n",
        "#cpu_cluster.update(min_nodes=1)\n",
        "#cpu_cluster.update(max_nodes=10)\n",
        "cpu_cluster.update(idle_seconds_before_scaledown=300)\n",
        "#cpu_cluster.update(min_nodes=2, max_nodes=4, idle_seconds_before_scaledown=600)"
      ],
      "outputs": [],
      "execution_count": null,
      "metadata": {}
    },
    {
      "cell_type": "code",
      "source": [
        "#Delete () is used to deprovision and delete the AmlCompute target. Useful if you want to re-use the compute name \n",
        "#'cpu-cluster' in this case but use a different VM family for instance.\n",
        "\n",
        "#cpu_cluster.delete()"
      ],
      "outputs": [],
      "execution_count": null,
      "metadata": {}
    },
    {
      "cell_type": "markdown",
      "source": [
        "## Success!\n",
        "Great, you are ready to move on to the remaining notebooks."
      ],
      "metadata": {}
    }
  ],
  "metadata": {
    "index_order": 1,
    "exclude_from_index": false,
    "task": "Submit a run on Azure Machine Learning Compute.",
    "deployment": [
      "None"
    ],
    "authors": [
      {
        "name": "nigup"
      }
    ],
    "kernel_info": {
      "name": "python38-azureml"
    },
    "language_info": {
      "name": "python",
      "version": "3.8.5",
      "mimetype": "text/x-python",
      "codemirror_mode": {
        "name": "ipython",
        "version": 3
      },
      "pygments_lexer": "ipython3",
      "nbconvert_exporter": "python",
      "file_extension": ".py"
    },
    "compute": [
      "AML Compute"
    ],
    "kernelspec": {
      "name": "python38-azureml",
      "language": "python",
      "display_name": "Python 3.8 - AzureML"
    },
    "tags": [
      "None"
    ],
    "datasets": [
      "Diabetes"
    ],
    "categories": [
      "how-to-use-azureml",
      "training"
    ],
    "category": "training",
    "framework": [
      "None"
    ],
    "friendly_name": "Train on Azure Machine Learning Compute",
    "nteract": {
      "version": "nteract-front-end@1.0.0"
    }
  },
  "nbformat": 4,
  "nbformat_minor": 0
}