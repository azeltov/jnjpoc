{
  "cells": [
    {
      "cell_type": "code",
      "source": [
        "from azureml.core import Workspace\n",
        "from azureml.core import Environment\n",
        "from azureml.core.runconfig import DockerConfiguration\n",
        "from azureml.core.conda_dependencies import CondaDependencies\n",
        "\n",
        "ws = Workspace.from_config()\n",
        "print(ws.name, ws.resource_group, ws.location, ws.subscription_id, sep = '\\n')"
      ],
      "outputs": [
        {
          "output_type": "stream",
          "name": "stdout",
          "text": "aml-no-acr\nrg-aml-no-acr\neastus\nf1ea6ed8-82f3-416d-881b-8b376218bc85\n"
        }
      ],
      "execution_count": 1,
      "metadata": {
        "gather": {
          "logged": 1666789776916
        }
      }
    },
    {
      "cell_type": "code",
      "source": [
        "myenv = Environment(\"jnjbyname\")\n",
        "myenv.docker.base_image = \"nexus.private:5000/repository/docker/jnjenv:latest\"\n",
        "myenv.docker.base_image_registry.username = \"admin\"\n",
        "myenv.docker.base_image_registry.password = \"Axyz5549$\"\n",
        "myenv.python.user_managed_dependencies=True\n",
        "myenv.python.interpreter_path = \"/azureml-envs/azureml_7b670ddb0b1b12445c1500836daaad97/bin/python\""
      ],
      "outputs": [],
      "execution_count": 12,
      "metadata": {
        "gather": {
          "logged": 1666801486769
        }
      }
    },
    {
      "cell_type": "code",
      "source": [
        "myenv.register(workspace=ws)\n"
      ],
      "outputs": [
        {
          "output_type": "execute_result",
          "execution_count": 13,
          "data": {
            "text/plain": "{\n    \"assetId\": \"azureml://locations/eastus/workspaces/f2daf0ef-663d-42a5-96d4-3ad3d3d90b2f/environments/jnjbyname/versions/2\",\n    \"databricks\": {\n        \"eggLibraries\": [],\n        \"jarLibraries\": [],\n        \"mavenLibraries\": [],\n        \"pypiLibraries\": [],\n        \"rcranLibraries\": []\n    },\n    \"docker\": {\n        \"arguments\": [],\n        \"baseDockerfile\": null,\n        \"baseImage\": \"nexus.private:5000/repository/docker/jnjenv:latest\",\n        \"baseImageRegistry\": {\n            \"address\": null,\n            \"password\": \"AzureMlSecret=Env_b1c0ab458cb5044fe9c4adbbe27ebbbdf4e0799bb4b51adf5a8d58887a0b075a_2#EnvironmentDefinition#ContainerRegistry#Password\",\n            \"registryIdentity\": null,\n            \"username\": \"admin\"\n        },\n        \"buildContext\": null,\n        \"enabled\": false,\n        \"platform\": {\n            \"architecture\": \"amd64\",\n            \"os\": \"Linux\"\n        },\n        \"sharedVolumes\": true,\n        \"shmSize\": null\n    },\n    \"environmentVariables\": {\n        \"EXAMPLE_ENV_VAR\": \"EXAMPLE_VALUE\"\n    },\n    \"inferencingStackVersion\": null,\n    \"name\": \"jnjbyname\",\n    \"python\": {\n        \"baseCondaEnvironment\": null,\n        \"condaDependencies\": {\n            \"channels\": [\n                \"anaconda\",\n                \"conda-forge\"\n            ],\n            \"dependencies\": [\n                \"python=3.8.13\",\n                {\n                    \"pip\": [\n                        \"azureml-defaults\"\n                    ]\n                }\n            ],\n            \"name\": \"project_environment\"\n        },\n        \"condaDependenciesFile\": null,\n        \"interpreterPath\": \"/azureml-envs/azureml_7b670ddb0b1b12445c1500836daaad97/bin/python\",\n        \"userManagedDependencies\": true\n    },\n    \"r\": null,\n    \"spark\": {\n        \"packages\": [],\n        \"precachePackages\": true,\n        \"repositories\": []\n    },\n    \"version\": \"2\"\n}"
          },
          "metadata": {}
        }
      ],
      "execution_count": 13,
      "metadata": {
        "gather": {
          "logged": 1666801491384
        }
      }
    },
    {
      "cell_type": "code",
      "source": [],
      "outputs": [],
      "execution_count": null,
      "metadata": {}
    }
  ],
  "metadata": {
    "kernelspec": {
      "name": "python38-azureml",
      "language": "python",
      "display_name": "Python 3.8 - AzureML"
    },
    "language_info": {
      "name": "python",
      "version": "3.8.5",
      "mimetype": "text/x-python",
      "codemirror_mode": {
        "name": "ipython",
        "version": 3
      },
      "pygments_lexer": "ipython3",
      "nbconvert_exporter": "python",
      "file_extension": ".py"
    },
    "nteract": {
      "version": "nteract-front-end@1.0.0"
    },
    "kernel_info": {
      "name": "python38-azureml"
    },
    "microsoft": {
      "host": {
        "AzureML": {
          "notebookHasBeenCompleted": true
        }
      }
    }
  },
  "nbformat": 4,
  "nbformat_minor": 0
}